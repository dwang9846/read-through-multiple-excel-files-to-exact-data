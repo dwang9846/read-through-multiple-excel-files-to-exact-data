{
 "cells": [
  {
   "cell_type": "code",
   "execution_count": 1,
   "id": "724c3c18",
   "metadata": {},
   "outputs": [],
   "source": [
    "import pandas as pd\n",
    "import os\n",
    "import numpy as np"
   ]
  },
  {
   "cell_type": "code",
   "execution_count": 49,
   "id": "09c6e47a",
   "metadata": {},
   "outputs": [],
   "source": [
    "path=r'G:\\FINANCE\\Sports & Entertainment\\Sales\\PPA'\n",
    "filenames=os.listdir(path)\n",
    "#print(filenames)"
   ]
  },
  {
   "cell_type": "code",
   "execution_count": 60,
   "id": "1043cd01",
   "metadata": {},
   "outputs": [
    {
     "name": "stdout",
     "output_type": "stream",
     "text": [
      "WARNING *** OLE2 inconsistency: SSCS size is 0 but SSAT size is non-zero\n"
     ]
    }
   ],
   "source": [
    "#prod_des=[]\n",
    "#prod_name=[]\n",
    "appended_data = []\n",
    "for file in filenames:\n",
    "    try:\n",
    "        prod_des=[]\n",
    "        prod_name=[]   \n",
    "        df=pd.read_excel(path+'/'+file,header=None)\n",
    "        prod_des.append(df.iloc[0,0])\n",
    "        prod_name.append(df.iloc[1,1])\n",
    "        df1=df.drop(index=df.index[:9],axis=0)\n",
    "        df1=df1.rename(columns=df1.iloc[0])\n",
    "        df1=df1[1:].iloc[:,:41]\n",
    "        df1.columns=df1.columns.str.lower()\n",
    "        row_num=df1.online.count()\n",
    "        df1=df1.iloc[:row_num,:]\n",
    "        prod_des=np.repeat(prod_des,row_num)\n",
    "        prod_name=np.repeat(prod_name,row_num)\n",
    "        df2=df1.loc[:,['sku #','product','boxes','packs','srp','tel','japan','online','add. selling','online $','tel $','japan $']]\n",
    "        df2['prod_des']=prod_des\n",
    "        df2['prod_name']=prod_name\n",
    "        appended_data.append(df2)\n",
    "    except:\n",
    "        pass\n",
    "        \n",
    "\n",
    "appended_data = pd.concat(appended_data)\n",
    "appended_data.to_excel('appended_2022.xlsx',index=False)\n",
    "\n",
    "\n",
    "    "
   ]
  }
 ],
 "metadata": {
  "kernelspec": {
   "display_name": "Python 3",
   "language": "python",
   "name": "python3"
  },
  "language_info": {
   "codemirror_mode": {
    "name": "ipython",
    "version": 3
   },
   "file_extension": ".py",
   "mimetype": "text/x-python",
   "name": "python",
   "nbconvert_exporter": "python",
   "pygments_lexer": "ipython3",
   "version": "3.8.8"
  }
 },
 "nbformat": 4,
 "nbformat_minor": 5
}
